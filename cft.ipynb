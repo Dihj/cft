{
 "cells": [
  {
   "cell_type": "code",
   "execution_count": 1,
   "id": "bd2ba95a",
   "metadata": {},
   "outputs": [
    {
     "ename": "SystemExit",
     "evalue": "0",
     "output_type": "error",
     "traceback": [
      "An exception has occurred, use %tb to see the full traceback.\n",
      "\u001b[0;31mSystemExit\u001b[0m\u001b[0;31m:\u001b[0m 0\n"
     ]
    },
    {
     "name": "stderr",
     "output_type": "stream",
     "text": [
      "/home/piotr/mambaforge/lib/python3.10/site-packages/IPython/core/interactiveshell.py:3386: UserWarning: To exit: use 'exit', 'quit', or Ctrl-D.\n",
      "  warn(\"To exit: use 'exit', 'quit', or Ctrl-D.\", stacklevel=1)\n"
     ]
    }
   ],
   "source": [
    "import sys\n",
    "import subprocess\n",
    "from PyQt5 import QtWidgets, uic, QtCore\n",
    "\n",
    "\n",
    "class MainWindow(QtWidgets.QMainWindow):\n",
    "    def __init__(self):\n",
    "        super().__init__()\n",
    "        uic.loadUi(\"cft.ui\", self)\n",
    "\n",
    "        self.buttons = [\n",
    "            self.downloadButton,\n",
    "            self.forecastButton,\n",
    "            self.verificationButton,\n",
    "            self.synthesisButton,\n",
    "        ]\n",
    "        self.script_map = {\n",
    "            self.downloadButton: \"download.py\",\n",
    "            self.forecastButton: \"forecast.py\",\n",
    "            self.verificationButton: \"verification.py\",\n",
    "            self.synthesisButton: \"synthesis.py\",\n",
    "        }\n",
    "\n",
    "        # Keep references to subprocesses\n",
    "        self.processes = []\n",
    "\n",
    "        for btn in self.buttons:\n",
    "            btn.clicked.connect(lambda _, b=btn: self.launch_script(b))\n",
    "\n",
    "    def launch_script(self, button):\n",
    "        \"\"\"Disable buttons, run script in background, re-enable when done\"\"\"\n",
    "        script = self.script_map[button]\n",
    "        self.set_buttons_enabled(False)\n",
    "\n",
    "        # Launch script in a separate process\n",
    "        process = subprocess.Popen([sys.executable, script])\n",
    "        self.processes.append(process)\n",
    "\n",
    "        # Use a QTimer to check if process is finished\n",
    "        timer = QtCore.QTimer(self)\n",
    "        timer.setInterval(500)  # check every 0.5 sec\n",
    "        timer.timeout.connect(lambda: self.check_process(process, timer))\n",
    "        timer.start()\n",
    "\n",
    "    def check_process(self, process, timer):\n",
    "        \"\"\"Check if the subprocess finished, and re-enable buttons\"\"\"\n",
    "        if process.poll() is not None:  # process finished\n",
    "            timer.stop()\n",
    "            self.processes.remove(process)\n",
    "            self.set_buttons_enabled(True)\n",
    "\n",
    "    def set_buttons_enabled(self, enabled: bool):\n",
    "        for btn in self.buttons:\n",
    "            btn.setEnabled(enabled)\n",
    "\n",
    "    def closeEvent(self, event):\n",
    "        \"\"\"Gracefully close the app and terminate any running subprocesses\"\"\"\n",
    "        # Optional: Ask the user for confirmation\n",
    "        reply = QtWidgets.QMessageBox.question(\n",
    "            self,\n",
    "            \"Exit\",\n",
    "            \"Are you sure you want to quit?\",\n",
    "            QtWidgets.QMessageBox.Yes | QtWidgets.QMessageBox.No,\n",
    "            QtWidgets.QMessageBox.No\n",
    "        )\n",
    "\n",
    "        if reply == QtWidgets.QMessageBox.No:\n",
    "            event.ignore()\n",
    "            return\n",
    "\n",
    "        # Terminate any running subprocesses\n",
    "        for p in self.processes:\n",
    "            if p.poll() is None:  # still running\n",
    "                p.terminate()  # or p.kill() if you need to force\n",
    "\n",
    "        event.accept()  # let the window close\n",
    "\n",
    "if __name__ == \"__main__\":\n",
    "    app = QtWidgets.QApplication(sys.argv)\n",
    "    window = MainWindow()\n",
    "    window.show()\n",
    "    sys.exit(app.exec_())"
   ]
  },
  {
   "cell_type": "code",
   "execution_count": null,
   "id": "71866be0",
   "metadata": {},
   "outputs": [],
   "source": []
  }
 ],
 "metadata": {
  "kernelspec": {
   "display_name": "Python 3 (ipykernel)",
   "language": "python",
   "name": "python3"
  },
  "language_info": {
   "codemirror_mode": {
    "name": "ipython",
    "version": 3
   },
   "file_extension": ".py",
   "mimetype": "text/x-python",
   "name": "python",
   "nbconvert_exporter": "python",
   "pygments_lexer": "ipython3",
   "version": "3.10.10"
  }
 },
 "nbformat": 4,
 "nbformat_minor": 5
}
