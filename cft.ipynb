{
 "cells": [
  {
   "cell_type": "code",
   "execution_count": 1,
   "id": "bd2ba95a",
   "metadata": {},
   "outputs": [
    {
     "name": "stderr",
     "output_type": "stream",
     "text": [
      "Traceback (most recent call last):\n",
      "  File \"/work/code/csc/cft/sadc_cft_current/forecast.py\", line 111, in <module>\n",
      "    gl.window.runButton.clicked.connect(launchForecast)\n",
      "AttributeError: 'MyApp' object has no attribute 'runButton'\n"
     ]
    },
    {
     "name": "stdout",
     "output_type": "stream",
     "text": [
      "<pre><font color=red>Failed to load config. Creating config from built-in setting data</font></pre>\n",
      "<pre><font color=grey>Creating config file...</font></pre>\n",
      "<pre><font color=grey>Version: 5.0.0</font></pre>\n",
      "<pre><font color=grey>outDir: ./test_output</font></pre>\n",
      "<pre><font color=grey>predictandFileFormat: csv</font></pre>\n",
      "<pre><font color=grey>predictandFileName: ./data/PRCPTOT_mon_CHIRPS-v2.0-p05-merged_cft_stations_BWA.csv</font></pre>\n",
      "<pre><font color=grey>predictandMissingValue: -9999</font></pre>\n",
      "<pre><font color=grey>predictandCategory: precipitation</font></pre>\n",
      "<pre><font color=grey>predictandVar: PRCPTOT</font></pre>\n",
      "<pre><font color=grey>predictandGapFill: False</font></pre>\n",
      "<pre><font color=grey>temporalAggregation: Sum</font></pre>\n",
      "<pre><font color=grey>predictorFileList: [['./data/SST_Jan_1961-2024.nc', 'sst']]</font></pre>\n",
      "<pre><font color=grey>predictorMonth: Jul</font></pre>\n",
      "<pre><font color=grey>basinMinLat: -90</font></pre>\n",
      "<pre><font color=grey>basinMaxLat: 90</font></pre>\n",
      "<pre><font color=grey>basinMinLon: -180</font></pre>\n",
      "<pre><font color=grey>basinMaxLon: -180</font></pre>\n",
      "<pre><font color=grey>fcstBaseTime: month</font></pre>\n",
      "<pre><font color=grey>fcstTargetMonth: Oct</font></pre>\n",
      "<pre><font color=grey>fcstTargetYear: 2024</font></pre>\n",
      "<pre><font color=grey>climStartYr: 1991</font></pre>\n",
      "<pre><font color=grey>climEndYr: 2020</font></pre>\n",
      "<pre><font color=grey>crossvalidation: k-fold</font></pre>\n",
      "<pre><font color=grey>nFolds: 5</font></pre>\n",
      "<pre><font color=grey>zoneFile: ./data/Botswana.geojson</font></pre>\n",
      "<pre><font color=grey>spatialAggregation: zonal</font></pre>\n",
      "<pre><font color=grey>algorithm: PCR</font></pre>\n",
      "<pre><font color=grey>gapFill: False</font></pre>\n",
      "<pre><font color=grey>writing config to config.json...</font></pre>\n"
     ]
    },
    {
     "ename": "SystemExit",
     "evalue": "0",
     "output_type": "error",
     "traceback": [
      "An exception has occurred, use %tb to see the full traceback.\n",
      "\u001b[0;31mSystemExit\u001b[0m\u001b[0;31m:\u001b[0m 0\n"
     ]
    },
    {
     "name": "stderr",
     "output_type": "stream",
     "text": [
      "/home/piotr/mambaforge/lib/python3.10/site-packages/IPython/core/interactiveshell.py:3386: UserWarning: To exit: use 'exit', 'quit', or Ctrl-D.\n",
      "  warn(\"To exit: use 'exit', 'quit', or Ctrl-D.\", stacklevel=1)\n"
     ]
    }
   ],
   "source": [
    "import sys\n",
    "import subprocess\n",
    "from PyQt5 import QtWidgets, uic, QtCore\n",
    "\n",
    "\n",
    "class MainWindow(QtWidgets.QMainWindow):\n",
    "    def __init__(self):\n",
    "        super().__init__()\n",
    "        uic.loadUi(\"cft.ui\", self)\n",
    "\n",
    "        self.buttons = [\n",
    "            self.downloadButton,\n",
    "            self.forecastButton,\n",
    "            self.verificationButton,\n",
    "            self.synthesisButton,\n",
    "        ]\n",
    "        self.script_map = {\n",
    "            self.downloadButton: \"download.py\",\n",
    "            self.forecastButton: \"forecast.py\",\n",
    "            self.verificationButton: \"verification.py\",\n",
    "            self.synthesisButton: \"synthesis.py\",\n",
    "        }\n",
    "\n",
    "        # Keep references to subprocesses\n",
    "        self.processes = []\n",
    "\n",
    "        for btn in self.buttons:\n",
    "            btn.clicked.connect(lambda _, b=btn: self.launch_script(b))\n",
    "\n",
    "    def launch_script(self, button):\n",
    "        \"\"\"Disable buttons, run script in background, re-enable when done\"\"\"\n",
    "        script = self.script_map[button]\n",
    "        self.set_buttons_enabled(False)\n",
    "\n",
    "        # Launch script in a separate process\n",
    "        process = subprocess.Popen([sys.executable, script])\n",
    "        self.processes.append(process)\n",
    "\n",
    "        # Use a QTimer to check if process is finished\n",
    "        timer = QtCore.QTimer(self)\n",
    "        timer.setInterval(500)  # check every 0.5 sec\n",
    "        timer.timeout.connect(lambda: self.check_process(process, timer))\n",
    "        timer.start()\n",
    "\n",
    "    def check_process(self, process, timer):\n",
    "        \"\"\"Check if the subprocess finished, and re-enable buttons\"\"\"\n",
    "        if process.poll() is not None:  # process finished\n",
    "            timer.stop()\n",
    "            self.processes.remove(process)\n",
    "            self.set_buttons_enabled(True)\n",
    "\n",
    "    def set_buttons_enabled(self, enabled: bool):\n",
    "        for btn in self.buttons:\n",
    "            btn.setEnabled(enabled)\n",
    "\n",
    "    def closeEvent(self, event):\n",
    "        \"\"\"Gracefully close the app and terminate any running subprocesses\"\"\"\n",
    "        # Optional: Ask the user for confirmation\n",
    "        reply = QtWidgets.QMessageBox.question(\n",
    "            self,\n",
    "            \"Exit\",\n",
    "            \"Are you sure you want to quit?\",\n",
    "            QtWidgets.QMessageBox.Yes | QtWidgets.QMessageBox.No,\n",
    "            QtWidgets.QMessageBox.No\n",
    "        )\n",
    "\n",
    "        if reply == QtWidgets.QMessageBox.No:\n",
    "            event.ignore()\n",
    "            return\n",
    "\n",
    "        # Terminate any running subprocesses\n",
    "        for p in self.processes:\n",
    "            if p.poll() is None:  # still running\n",
    "                p.terminate()  # or p.kill() if you need to force\n",
    "\n",
    "        event.accept()  # let the window close\n",
    "\n",
    "if __name__ == \"__main__\":\n",
    "    app = QtWidgets.QApplication(sys.argv)\n",
    "    window = MainWindow()\n",
    "    window.show()\n",
    "    sys.exit(app.exec_())"
   ]
  },
  {
   "cell_type": "code",
   "execution_count": null,
   "id": "71866be0",
   "metadata": {},
   "outputs": [],
   "source": []
  }
 ],
 "metadata": {
  "kernelspec": {
   "display_name": "Python 3 (ipykernel)",
   "language": "python",
   "name": "python3"
  },
  "language_info": {
   "codemirror_mode": {
    "name": "ipython",
    "version": 3
   },
   "file_extension": ".py",
   "mimetype": "text/x-python",
   "name": "python",
   "nbconvert_exporter": "python",
   "pygments_lexer": "ipython3",
   "version": "3.10.10"
  }
 },
 "nbformat": 4,
 "nbformat_minor": 5
}
